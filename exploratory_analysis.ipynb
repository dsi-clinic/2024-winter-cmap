{
 "cells": [
  {
   "cell_type": "code",
   "execution_count": null,
   "metadata": {},
   "outputs": [],
   "source": [
    "import pandas as pd\n",
    "import geopandas as gpd\n",
    "\n",
    "#variables\n",
    "gibi_file_path = \"/net/projects/cmap/data/GIBI_2021_shapefiles/GIBI_All.shp\"\n",
    "gibi_df = gpd.read_file(gibi_file_path) #, engine=\"pyogrio\"\n",
    "print(gibi_df.columns)"
   ]
  }
 ],
 "metadata": {
  "kernelspec": {
   "display_name": "cmap",
   "language": "python",
   "name": "python3"
  },
  "language_info": {
   "name": "python",
   "version": "3.9.18"
  }
 },
 "nbformat": 4,
 "nbformat_minor": 2
}
