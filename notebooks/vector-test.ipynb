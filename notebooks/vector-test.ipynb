{
 "cells": [
  {
   "cell_type": "markdown",
   "metadata": {},
   "source": [
    "### Vector Dataset Class\n",
    "\n",
    "The code defines a hierarchical structure for geospatial datasets, with GeoDataset as a base class providing transformation capabilities for its subclasses, and VectorDataset extending it to specifically handle vector data. VectorDataset is designed to manage and process geospatial vector data, supporting operations like reading data from specified paths, handling coordinate reference systems (CRS), and optionally applying transformations to the data. The StormwaterDataset subclass further specializes VectorDataset for a specific dataset, demonstrating how the framework can be tailored to specific types of geospatial data, such as stormwater data contained within a GeoDatabase file."
   ]
  },
  {
   "cell_type": "code",
   "execution_count": 4,
   "metadata": {},
   "outputs": [],
   "source": [
    "import os\n",
    "import re\n",
    "import sys\n",
    "import fiona\n",
    "from typing import Union, Optional, Callable, Any, Iterable\n",
    "from pyproj import CRS, Transformer\n",
    "from shapely.geometry import shape, mapping\n",
    "import numpy as np\n",
    "import rasterio.features\n",
    "from rasterio.transform import from_bounds\n",
    "from torchgeo.datasets import GeoDataset, VectorDataset"
   ]
  },
  {
   "cell_type": "code",
   "execution_count": 11,
   "metadata": {},
   "outputs": [],
   "source": [
    "DATA_ROOT = \"/net/projects/cmap/data\"\n",
    "KC_SHAPE_ROOT = os.path.join(DATA_ROOT, \"kane-county-data\")\n",
    "KC_IMAGE_ROOT = os.path.join(DATA_ROOT, \"KC-images\")\n",
    "KC_MASK_ROOT = os.path.join(DATA_ROOT, \"KC-masks/top-structures-masks\")\n",
    "KC_MASK_VEC_ROOT = os.path.join(DATA_ROOT, \"KC-masks/top-structures-masks-vec\")"
   ]
  },
  {
   "cell_type": "code",
   "execution_count": 5,
   "metadata": {},
   "outputs": [],
   "source": [
    "class KaneCounty(VectorDataset):\n",
    "    filename_glob = \"mask_m*.tif\"\n",
    "    filename_regex = r\"\"\"\n",
    "        ^mask_m\n",
    "        _(?P<quadrangle>\\d+)\n",
    "        _(?P<quarter_quad>[a-z]+)\n",
    "        _(?P<utm_zone>\\d+)\n",
    "        _(?P<resolution>\\d+)\n",
    "        _(?P<date>\\d+)\n",
    "        (?:_(?P<processing_date>\\d+))?\n",
    "        \\..*$\n",
    "    \"\"\"\n",
    "\n",
    "    label_names = {\n",
    "        1: \"POND\",\n",
    "        2: \"WETLAND\",\n",
    "        3: \"DRY BOTTOM - TURF\",\n",
    "        4: \"DRY BOTTOM - MESIC PRAIRIE\",\n",
    "        5: \"DEPRESSIONAL STORAGE\",\n",
    "        6: \"DRY BOTTOM - WOODED\",\n",
    "        7: \"POND - EXTENDED DRY\",\n",
    "        8: \"PICP PARKING LOT\",\n",
    "        9: \"DRY BOTTOM - GRAVEL\",\n",
    "        10: \"UNDERGROUND\",\n",
    "        11: \"UNDERGROUND VAULT\",\n",
    "        12: \"PICP ALLEY\",\n",
    "        13: \"INFILTRATION TRENCH\",\n",
    "        14: \"BIORETENTION\",\n",
    "        15: \"UNKNOWN\",\n",
    "    }\n",
    "\n",
    "    labels_inverse = {v: k for k, v in label_names.items()}\n"
   ]
  },
  {
   "cell_type": "code",
   "execution_count": 7,
   "metadata": {},
   "outputs": [
    {
     "ename": "FileNotFoundError",
     "evalue": "No KaneCounty data was found in `root='/net/projects/cmap/data/KC-masks/top-structures-masks'`",
     "output_type": "error",
     "traceback": [
      "\u001b[0;31m---------------------------------------------------------------------------\u001b[0m",
      "\u001b[0;31mFileNotFoundError\u001b[0m                         Traceback (most recent call last)",
      "Cell \u001b[0;32mIn[7], line 2\u001b[0m\n\u001b[1;32m      1\u001b[0m \u001b[38;5;66;03m# Attempt to load the county data using the mask root\u001b[39;00m\n\u001b[0;32m----> 2\u001b[0m dataset \u001b[38;5;241m=\u001b[39m \u001b[43mKaneCounty\u001b[49m\u001b[43m(\u001b[49m\u001b[43mpaths\u001b[49m\u001b[38;5;241;43m=\u001b[39;49m\u001b[43m \u001b[49m\u001b[43mKC_MASK_ROOT\u001b[49m\u001b[43m)\u001b[49m\n",
      "File \u001b[0;32m~/.conda/envs/cmap/lib/python3.10/site-packages/torchgeo/datasets/geo.py:660\u001b[0m, in \u001b[0;36mVectorDataset.__init__\u001b[0;34m(self, paths, crs, res, transforms, label_name)\u001b[0m\n\u001b[1;32m    658\u001b[0m \u001b[38;5;28;01mif\u001b[39;00m i \u001b[38;5;241m==\u001b[39m \u001b[38;5;241m0\u001b[39m:\n\u001b[1;32m    659\u001b[0m     msg \u001b[38;5;241m=\u001b[39m \u001b[38;5;124mf\u001b[39m\u001b[38;5;124m\"\u001b[39m\u001b[38;5;124mNo \u001b[39m\u001b[38;5;132;01m{\u001b[39;00m\u001b[38;5;28mself\u001b[39m\u001b[38;5;241m.\u001b[39m\u001b[38;5;18m__class__\u001b[39m\u001b[38;5;241m.\u001b[39m\u001b[38;5;18m__name__\u001b[39m\u001b[38;5;132;01m}\u001b[39;00m\u001b[38;5;124m data was found in `root=\u001b[39m\u001b[38;5;124m'\u001b[39m\u001b[38;5;132;01m{\u001b[39;00mpaths\u001b[38;5;132;01m}\u001b[39;00m\u001b[38;5;124m'\u001b[39m\u001b[38;5;124m`\u001b[39m\u001b[38;5;124m\"\u001b[39m\n\u001b[0;32m--> 660\u001b[0m     \u001b[38;5;28;01mraise\u001b[39;00m \u001b[38;5;167;01mFileNotFoundError\u001b[39;00m(msg)\n\u001b[1;32m    662\u001b[0m \u001b[38;5;28mself\u001b[39m\u001b[38;5;241m.\u001b[39m_crs \u001b[38;5;241m=\u001b[39m crs\n\u001b[1;32m    663\u001b[0m \u001b[38;5;28mself\u001b[39m\u001b[38;5;241m.\u001b[39m_res \u001b[38;5;241m=\u001b[39m res\n",
      "\u001b[0;31mFileNotFoundError\u001b[0m: No KaneCounty data was found in `root='/net/projects/cmap/data/KC-masks/top-structures-masks'`"
     ]
    }
   ],
   "source": [
    "# Attempt to load the county data using the mask root\n",
    "dataset = KaneCounty(paths= KC_MASK_ROOT)"
   ]
  },
  {
   "cell_type": "markdown",
   "metadata": {},
   "source": [
    "The error encountered while attempting to load these TIFF files is due to the format not being compatible or readable by Fiona. Fiona, being a Python library for reading and writing vector data, primarily supports formats like GeoJSON, ESRI Shapefile, and others that are often used in GIS applications. The TIFF files listed (e.g., mask_m_4108804_ne_16_060_20210928.tif, mask_m_4108812_nw_16_060_20210928.tif, etc.) are raster files, not vector data, which is likely why Fiona is throwing a FionaValueError. This error is specifically designed to handle situations where the provided input does not match the expected format or contains values that Fiona cannot process. In this case, we might need to consider convert the raster file to the vector dataset in order to correcly load the above code."
   ]
  },
  {
   "cell_type": "markdown",
   "metadata": {},
   "source": [
    "### Convert raster mask to vector mask\n",
    "\n",
    "The below code attempt to convert the raster mask data into the vector data in order to be loaded in the VectorDataset class.\n",
    "\n"
   ]
  },
  {
   "cell_type": "code",
   "execution_count": 16,
   "metadata": {},
   "outputs": [],
   "source": [
    "import os\n",
    "import rasterio\n",
    "from rasterio.features import shapes\n",
    "import geopandas as gpd\n",
    "from shapely.geometry import shape\n",
    "\n",
    "def convert_raster_to_vector(tif_path, output_directory=None):\n",
    "    \"\"\"\n",
    "    Converts a raster TIFF file to a vector Shapefile.\n",
    "\n",
    "    Args:\n",
    "    tif_path (str): The file path of the raster TIFF to be converted.\n",
    "    output_directory (str, optional): The directory where the Shapefile will be saved.\n",
    "                                      If None, uses the TIFF file's directory.\n",
    "\n",
    "    Returns:\n",
    "    str: The file path of the created Shapefile.\n",
    "    \"\"\"\n",
    "    # Extract base name from the TIFF path\n",
    "    base_name = os.path.splitext(os.path.basename(tif_path))[0]\n",
    "\n",
    "    # Define the output Shapefile path\n",
    "    shp_path = os.path.join(output_directory, f\"{base_name}.shp\")\n",
    "\n",
    "    # Ensure the output directory exists\n",
    "    os.makedirs(output_directory, exist_ok=True)\n",
    "\n",
    "    # Step 1: Read the raster data\n",
    "    with rasterio.open(tif_path) as src:\n",
    "        image = src.read(1)  # Assume we're interested in the first band\n",
    "        # Convert non-zero values to True, zeros to False (adjust as needed)\n",
    "        mask = image != 0\n",
    "\n",
    "        # Step 2: Vectorize the mask\n",
    "        results = (\n",
    "            {'properties': {'raster_val': v}, 'geometry': s}\n",
    "            for i, (s, v) in enumerate(shapes(image, mask=mask, transform=src.transform))\n",
    "        )\n",
    "\n",
    "    # Step 3: Create a GeoDataFrame from the shapes\n",
    "    gdf = gpd.GeoDataFrame.from_features(list(results))\n",
    "\n",
    "    # Set CRS for the GeoDataFrame using the raster's CRS\n",
    "    gdf.crs = src.crs\n",
    "\n",
    "    # Save the GeoDataFrame to a new Shapefile\n",
    "    gdf.to_file(shp_path, driver='ESRI Shapefile')\n",
    "\n",
    "    return shp_path\n"
   ]
  },
  {
   "cell_type": "code",
   "execution_count": 17,
   "metadata": {},
   "outputs": [
    {
     "name": "stdout",
     "output_type": "stream",
     "text": [
      "Shapefile saved to: /net/projects/cmap/data/KC-masks/top-structures-masks-vec/mask_m_4108804_ne_16_060_20210928.shp\n"
     ]
    }
   ],
   "source": [
    "# Example usage\n",
    "tif_file_path = os.path.join(KC_MASK_ROOT, \"mask_m_4108804_ne_16_060_20210928.tif\")\n",
    "output_dir = KC_MASK_VEC_ROOT\n",
    "shp_file_path = convert_raster_to_vector(tif_file_path, output_directory=output_dir)\n",
    "print(f\"Shapefile saved to: {shp_file_path}\")"
   ]
  },
  {
   "cell_type": "code",
   "execution_count": 18,
   "metadata": {},
   "outputs": [],
   "source": [
    "class KaneCountyVec(VectorDataset):\n",
    "    filename_glob = \"mask_m*.shp\"\n",
    "    filename_regex = r\"\"\"\n",
    "        ^mask_m\n",
    "        _(?P<quadrangle>\\d+)\n",
    "        _(?P<quarter_quad>[a-z]+)\n",
    "        _(?P<utm_zone>\\d+)\n",
    "        _(?P<resolution>\\d+)\n",
    "        _(?P<date>\\d+)\n",
    "        (?:_(?P<processing_date>\\d+))?\n",
    "        \\..*$\n",
    "    \"\"\"\n",
    "\n",
    "    label_names = {\n",
    "        1: \"POND\",\n",
    "        2: \"WETLAND\",\n",
    "        3: \"DRY BOTTOM - TURF\",\n",
    "        4: \"DRY BOTTOM - MESIC PRAIRIE\",\n",
    "        5: \"DEPRESSIONAL STORAGE\",\n",
    "        6: \"DRY BOTTOM - WOODED\",\n",
    "        7: \"POND - EXTENDED DRY\",\n",
    "        8: \"PICP PARKING LOT\",\n",
    "        9: \"DRY BOTTOM - GRAVEL\",\n",
    "        10: \"UNDERGROUND\",\n",
    "        11: \"UNDERGROUND VAULT\",\n",
    "        12: \"PICP ALLEY\",\n",
    "        13: \"INFILTRATION TRENCH\",\n",
    "        14: \"BIORETENTION\",\n",
    "        15: \"UNKNOWN\",\n",
    "    }\n",
    "\n",
    "    labels_inverse = {v: k for k, v in label_names.items()}\n"
   ]
  },
  {
   "cell_type": "code",
   "execution_count": 19,
   "metadata": {},
   "outputs": [],
   "source": [
    "# Attempt to load the new county data using the mask vector root\n",
    "dataset = KaneCountyVec(paths= KC_MASK_VEC_ROOT)\n"
   ]
  },
  {
   "cell_type": "markdown",
   "metadata": {},
   "source": [
    "In this iteration of the code, the dataset is properly loaded into the Vectordataset method within geotorch. Before proceeding with the modification of the VectorDataset method to enable the selection of specific shapes rather than bounding boxes, let's begin by visualizing the distinction between raster and vector datasets."
   ]
  },
  {
   "cell_type": "markdown",
   "metadata": {},
   "source": [
    "### Visualization on Vector Dataset Versus Raster Dataset\n"
   ]
  },
  {
   "cell_type": "code",
   "execution_count": 35,
   "metadata": {},
   "outputs": [
    {
     "data": {
      "image/png": "[encoded data removed]",
      "text/plain": [
       "<Figure size 1000x1000 with 1 Axes>"
      ]
     },
     "metadata": {},
     "output_type": "display_data"
    }
   ],
   "source": [
    "import rasterio\n",
    "from rasterio.plot import show\n",
    "import geopandas as gpd\n",
    "import matplotlib.pyplot as plt\n",
    "import matplotlib.patches as mpatches\n",
    "\n",
    "def visualize_raster_vector(raster_path, vector_path):\n",
    "    \"\"\"\n",
    "    Visualizes a raster dataset and a vector dataset on the same figure.\n",
    "\n",
    "    Args:\n",
    "    raster_path (str): The file path of the raster dataset (TIFF).\n",
    "    vector_path (str): The file path of the vector dataset (Shapefile).\n",
    "    \"\"\"\n",
    "    # Read the raster data\n",
    "    with rasterio.open(raster_path) as src:\n",
    "        raster_data = src.read(1)  # Read the first band\n",
    "        # Capture raster transform and bounds for plotting\n",
    "        transform = src.transform\n",
    "        extent = [src.bounds.left, src.bounds.right, src.bounds.bottom, src.bounds.top]\n",
    "\n",
    "    # Read the vector data\n",
    "    vector_data = gpd.read_file(vector_path)\n",
    "\n",
    "    # Create a figure and axis for plotting\n",
    "    fig, ax = plt.subplots(figsize=(10, 10), facecolor='white')\n",
    "\n",
    "    # Plot the raster data using rio_show to avoid name conflicts\n",
    "    raster_plot = show(raster_data, ax=ax, transform=transform, extent=extent, cmap='Greens', alpha=0.5)\n",
    "\n",
    "    # Plot the vector data, saving the returned value for the legend\n",
    "    vector_plot = vector_data.plot(ax=ax, facecolor='none', edgecolor='red', linewidth=1)\n",
    "\n",
    "    # Create legend\n",
    "    raster_patch = mpatches.Patch(color='green', label='Raster Data')\n",
    "    vector_patch = mpatches.Patch(color='red', label='Vector Data')\n",
    "    plt.legend(handles=[raster_patch, vector_patch])\n",
    "\n",
    "    # Set plot title and labels\n",
    "    ax.set_title('Raster/Vector Comparison')\n",
    "    ax.set_xlabel('Longitude')\n",
    "    ax.set_ylabel('Latitude')\n",
    "\n",
    "    # Show the plot\n",
    "    plt.show()\n",
    "\n",
    "# Example usage\n",
    "raster_file_path = os.path.join(KC_MASK_ROOT, 'mask_m_4108804_ne_16_060_20210928.tif')\n",
    "vector_file_path = os.path.join(KC_MASK_VEC_ROOT,'mask_m_4108804_ne_16_060_20210928.shp')\n",
    "visualize_raster_vector(raster_file_path, vector_file_path)\n"
   ]
  },
  {
   "cell_type": "markdown",
   "metadata": {},
   "source": [
    "### Storm Weather Geo-DataBase"
   ]
  },
  {
   "cell_type": "code",
   "execution_count": null,
   "metadata": {},
   "outputs": [],
   "source": [
    "class StormWeatherKC(VectorDataset):\n",
    "    filename_glob = \"\"\n",
    "    filename_regex = r\"\"\"\n",
    "        ^mask_m\n",
    "        _(?P<quadrangle>\\d+)\n",
    "        _(?P<quarter_quad>[a-z]+)\n",
    "        _(?P<utm_zone>\\d+)\n",
    "        _(?P<resolution>\\d+)\n",
    "        _(?P<date>\\d+)\n",
    "        (?:_(?P<processing_date>\\d+))?\n",
    "        \\..*$\n",
    "    \"\"\"\n",
    "\n",
    "    label_names = {\n",
    "        1: \"POND\",\n",
    "        2: \"WETLAND\",\n",
    "        3: \"DRY BOTTOM - TURF\",\n",
    "        4: \"DRY BOTTOM - MESIC PRAIRIE\",\n",
    "        5: \"DEPRESSIONAL STORAGE\",\n",
    "        6: \"DRY BOTTOM - WOODED\",\n",
    "        7: \"POND - EXTENDED DRY\",\n",
    "        8: \"PICP PARKING LOT\",\n",
    "        9: \"DRY BOTTOM - GRAVEL\",\n",
    "        10: \"UNDERGROUND\",\n",
    "        11: \"UNDERGROUND VAULT\",\n",
    "        12: \"PICP ALLEY\",\n",
    "        13: \"INFILTRATION TRENCH\",\n",
    "        14: \"BIORETENTION\",\n",
    "        15: \"UNKNOWN\",\n",
    "    }\n",
    "\n",
    "    labels_inverse = {v: k for k, v in label_names.items()}\n"
   ]
  },
  {
   "cell_type": "markdown",
   "metadata": {},
   "source": [
    "### Fiona and Shape File exploration on Storm Weather Data (non-relevant with above)\n",
    "\n",
    "Available Layers: The dataset comprises 51 layers, indicated by the layer numbers 1 through 51. Each layer potentially represents a different type of geospatial data, such as roads, water bodies, infrastructure, etc.\n",
    "\n",
    "Layer Schema: For the layer 1 selected (layer 1), the schema shows the data structure of the features within this layer. It includes a variety of attributes like Id, GEOMETRY, MATERIAL, DIA_IN (diameter in inches), PERC_SLP (percent slope), CONDITION, among others. The geometry type for this layer is 3D MultiLineString, indicating that features are represented as multiline strings with a Z-coordinate (elevation or depth).\n",
    "\n",
    "Sample Geometries and Properties: I printed the geometry and properties of the first few features in this layer (1). The geometries are 3D multiline strings, suggesting they likely represent linear features such as pipes or conduits with elevation data. However, the properties are shown as <fiona.model.Properties object at memory_address>, which suggests that the properties weren't directly printed. To view the properties, I would need to convert the Properties object into a readable format, typically by accessing its attributes or using a method like dict(feature['properties']).\n",
    "\n"
   ]
  },
  {
   "cell_type": "code",
   "execution_count": 1,
   "metadata": {},
   "outputs": [
    {
     "name": "stdout",
     "output_type": "stream",
     "text": [
      "Available layers: [1, 2, 3, 4, 5, 6, 7, 8, 9, 10, 11, 12, 13, 14, 15, 16, 17, 18, 19, 20, 21, 22, 23, 24, 25, 26, 27, 28, 29, 30, 31, 32, 33, 34, 35, 36, 37, 38, 39, 40, 41, 42, 43, 44, 45, 46, 47, 48, 49, 50, 51]\n",
      "Layer schema: {'properties': {'Id': 'int', 'GEOMETRY': 'str:50', 'MATERIAL': 'str:50', 'DIA_IN': 'int', 'PERC_SLP': 'float', 'CONDITION': 'str:50', 'SURF_TYPE': 'str:50', 'EX_PROP': 'str:10', 'NOTES': 'str:64', 'PERF': 'str:6', 'LENGTH_FT': 'float', 'OWNER': 'str:32', 'TYPE': 'str:18', 'US_INV': 'float', 'DS_INV': 'float', 'OWNERSHIP': 'str:48', 'JURISDICTION': 'str:48', 'AddUser': 'str:15', 'AddDate': 'datetime', 'EditUser': 'str:15', 'EditDate': 'datetime', 'Source': 'str:100', 'Datum': 'str:50', 'Dia_Notes': 'str:50', 'Shape_Length': 'float'}, 'geometry': '3D MultiLineString'}\n",
      "Geometry: MULTILINESTRING Z ((988541.7871717513 1928133.0745358393 0, 988638.4447868355 1928138.6677004993 0))\n",
      "Properties: <fiona.model.Properties object at 0x7f30520d1f00>\n",
      "Geometry: MULTILINESTRING Z ((988517.3347928338 1928098.5923213363 0, 988541.7927491665 1928133.0689584166 0))\n",
      "Properties: <fiona.model.Properties object at 0x7f30520d2050>\n",
      "Geometry: MULTILINESTRING Z ((988799.6928239167 1928145.7834999189 0, 988771.701410085 1928145.928512752 0))\n",
      "Properties: <fiona.model.Properties object at 0x7f30520d2230>\n",
      "Geometry: MULTILINESTRING Z ((983461.1195115857 1924378.6929370016 0, 983439.9837270826 1924321.8085363358 0, 983426.1540303342 1924286.5822288394 0, 983413.1071404181 1924257.096395418 0, 983394.3197764196 1924221.8697598353 0, 983378.4024854191 1924195.5151537508 0, 983371.6180501692 1924183.512225002 0))\n",
      "Properties: <fiona.model.Properties object at 0x7f30520d2410>\n",
      "Geometry: MULTILINESTRING Z ((982337.0610641688 1924535.6125706658 0, 982231.8243979998 1924526.3353582546 0))\n",
      "Properties: <fiona.model.Properties object at 0x7f30520d25f0>\n"
     ]
    }
   ],
   "source": [
    "### Exploration using fiona\n",
    "\n",
    "import fiona\n",
    "from shapely.geometry import shape\n",
    "\n",
    "# Assuming the first item in your dataset index is the one you want to explore\n",
    "dataset_path = '/net/projects/cmap/data/kane-county-data/KC_StormwaterDataJan2024.gdb.zip'\n",
    "\n",
    "# Step 1: Open the dataset and list layers\n",
    "with fiona.open(dataset_path, 'r') as gdb:\n",
    "    print(\"Available layers:\", list(gdb.keys()))\n",
    "\n",
    "# Assuming you've selected a layer to explore, replace 'your_layer_name_here' with its actual name\n",
    "layer_name = 1\n",
    "\n",
    "# Step 2: Explore a specific layer\n",
    "with fiona.open(dataset_path, layer=layer_name) as layer:\n",
    "    # Print out schema to see attribute names and types\n",
    "    print(\"Layer schema:\", layer.schema)\n",
    "    \n",
    "    # Optionally, explore the first few features to understand their structure\n",
    "    for feature in layer[:5]:  # Adjust the slice as needed\n",
    "        geom = shape(feature['geometry'])\n",
    "        props = feature['properties']\n",
    "        print(\"Geometry:\", geom)\n",
    "        print(\"Properties:\", props)\n",
    "\n",
    "# Step 3: Perform more specific operations\n",
    "# Example: Calculate and print the area of the first polygon in the layer\n",
    "with fiona.open(dataset_path, layer=layer_name) as layer:\n",
    "    for feature in layer:\n",
    "        geom = shape(feature['geometry'])\n",
    "        if geom.geom_type == 'Polygon':\n",
    "            print(\"Area of the polygon:\", geom.area)\n",
    "            break  # Remove or modify this break statement depending on what you want to do\n"
   ]
  },
  {
   "cell_type": "code",
   "execution_count": null,
   "metadata": {},
   "outputs": [],
   "source": []
  }
 ],
 "metadata": {
  "kernelspec": {
   "display_name": "base",
   "language": "python",
   "name": "python3"
  },
  "language_info": {
   "codemirror_mode": {
    "name": "ipython",
    "version": 3
   },
   "file_extension": ".py",
   "mimetype": "text/x-python",
   "name": "python",
   "nbconvert_exporter": "python",
   "pygments_lexer": "ipython3",
   "version": "3.10.14"
  }
 },
 "nbformat": 4,
 "nbformat_minor": 2
}
